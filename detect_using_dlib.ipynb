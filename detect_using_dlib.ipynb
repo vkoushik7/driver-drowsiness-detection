{
 "cells": [
  {
   "cell_type": "code",
   "execution_count": 9,
   "id": "8c85d463-5c83-4460-9272-9d2ce75c0e05",
   "metadata": {},
   "outputs": [],
   "source": [
    "import dlib \n",
    "import cv2 as cv"
   ]
  },
  {
   "cell_type": "code",
   "execution_count": 10,
   "id": "3f437244-26ef-4f7d-83c2-9d44f5025c6a",
   "metadata": {},
   "outputs": [],
   "source": [
    "detector = dlib.get_frontal_face_detector()\n",
    "eye_cascade = cv.CascadeClassifier(cv.data.haarcascades + 'haarcascade_eye.xml')"
   ]
  },
  {
   "cell_type": "code",
   "execution_count": 12,
   "id": "f7344e26-4715-4fac-b4cb-8353cd74ab1c",
   "metadata": {},
   "outputs": [],
   "source": [
    "import dlib\n",
    "\n",
    "# Load the Dlib face detector\n",
    "detector = dlib.get_frontal_face_detector()\n",
    "\n",
    "def getextractedeyes_dlib(Path, target_resolution=(145, 145)):\n",
    "    img = cv.imread(Path)\n",
    "    name = Path[-13:-8]\n",
    "    print(name)\n",
    "    gray_img = cv.cvtColor(img, cv.COLOR_BGR2GRAY)\n",
    "\n",
    "    ans = []\n",
    "\n",
    "    # Use Dlib face detector\n",
    "    faces = detector(gray_img)\n",
    "\n",
    "    if len(faces) > 0:\n",
    "        for i, face in enumerate(faces):\n",
    "            x, y, w, h = face.left(), face.top(), face.width(), face.height()\n",
    "            roi_gray = gray_img[y:y+h, x:x+w]\n",
    "            roi_color = img[y:y+h, x:x+w]\n",
    "\n",
    "            eyes = eye_cascade.detectMultiScale(roi_gray)\n",
    "\n",
    "            for j, (ex, ey, ew, eh) in enumerate(eyes):\n",
    "                eye = roi_color[ey:ey+eh, ex:ex+ew]\n",
    "                eye = cv.resize(eye, target_resolution)\n",
    "                ans.append(eye)\n",
    "\n",
    "                # Determine the eye side (left or right)\n",
    "                eye_side = \"left\" if j % 2 == 0 else \"right\"\n",
    "\n",
    "                # Save the resized eye image\n",
    "                respath = f\"D:/projects/Driver_Drowziness/results/{name}_{eye_side}_eye_{i + 1}_{j + 1}.jpg\"\n",
    "                cv.imwrite(respath, eye)\n",
    "    else:\n",
    "        print(f\"No faces detected in {Path}\")\n",
    "\n",
    "    return ans\n"
   ]
  },
  {
   "cell_type": "code",
   "execution_count": 13,
   "id": "d2a8f067-ace1-4147-9188-ceceeb2e9464",
   "metadata": {},
   "outputs": [
    {
     "name": "stdout",
     "output_type": "stream",
     "text": [
      "52_35\n",
      "No faces detected in C:\\Users\\vkris\\Pictures\\Camera Roll\\WIN_20231121_23_52_35_Pro.jpg\n"
     ]
    }
   ],
   "source": [
    "Path = r\"C:\\Users\\vkris\\Pictures\\Camera Roll\\WIN_20231121_23_52_35_Pro.jpg\"\n",
    "eyes = getextractedeyes_dlib(Path)"
   ]
  },
  {
   "cell_type": "code",
   "execution_count": 14,
   "id": "897d9eef-f211-47e7-a79a-0dbfb46554d4",
   "metadata": {},
   "outputs": [],
   "source": [
    "from keras.models import load_model\n",
    "from keras.preprocessing import image\n",
    "import numpy as np"
   ]
  },
  {
   "cell_type": "code",
   "execution_count": 15,
   "id": "f1220499-d041-41cc-86e1-d50fa70fe5c4",
   "metadata": {},
   "outputs": [],
   "source": [
    "model = load_model(r\"D:\\projects\\Driver_Drowziness\\drowsiness_detection_model_final.h5\")"
   ]
  },
  {
   "cell_type": "code",
   "execution_count": 16,
   "id": "6e329a6b-4dc2-422d-8d47-a4a6cc9ffe3b",
   "metadata": {},
   "outputs": [],
   "source": [
    "def preprocess_eye_image(img):\n",
    "    img_array = image.img_to_array(img)\n",
    "    img_array = np.expand_dims(img_array, axis=0)\n",
    "    img_array /= 255.0\n",
    "    return img_array"
   ]
  },
  {
   "cell_type": "code",
   "execution_count": 8,
   "id": "cae65790-c6d3-4b9a-8ced-e7a8aa16a538",
   "metadata": {},
   "outputs": [
    {
     "ename": "TypeError",
     "evalue": "'NoneType' object is not iterable",
     "output_type": "error",
     "traceback": [
      "\u001b[1;31m---------------------------------------------------------------------------\u001b[0m",
      "\u001b[1;31mTypeError\u001b[0m                                 Traceback (most recent call last)",
      "Cell \u001b[1;32mIn[8], line 4\u001b[0m\n\u001b[0;32m      2\u001b[0m righteye \u001b[38;5;241m=\u001b[39m \u001b[38;5;28;01mFalse\u001b[39;00m\n\u001b[0;32m      3\u001b[0m a \u001b[38;5;241m=\u001b[39m \u001b[38;5;241m0\u001b[39m\n\u001b[1;32m----> 4\u001b[0m \u001b[38;5;28;01mfor\u001b[39;00m i \u001b[38;5;129;01min\u001b[39;00m eyes:\n\u001b[0;32m      5\u001b[0m     eye \u001b[38;5;241m=\u001b[39m preprocess_eye_image(i)\n\u001b[0;32m      6\u001b[0m     pred \u001b[38;5;241m=\u001b[39m model\u001b[38;5;241m.\u001b[39mpredict(eye)\n",
      "\u001b[1;31mTypeError\u001b[0m: 'NoneType' object is not iterable"
     ]
    }
   ],
   "source": [
    "lefteye = False\n",
    "righteye = False\n",
    "a = 0\n",
    "for i in eyes:\n",
    "    eye = preprocess_eye_image(i)\n",
    "    pred = model.predict(eye)\n",
    "    print(pred)\n",
    "    if pred[0, 0] > 0.5:\n",
    "        if (a==0): lefteye = False\n",
    "        else: righteye = False\n",
    "    else:\n",
    "        if (a==0): lefteye = True\n",
    "        else: righteye = True\n",
    "    a+=1\n",
    "if (lefteye==True and righteye==True): print(\"True, drowsiness detected!\")\n",
    "else: print(\"No Drowsiness Detected\")"
   ]
  },
  {
   "cell_type": "code",
   "execution_count": null,
   "id": "3d9f6dda-41e8-440f-b87c-cd4b0bf3cd4a",
   "metadata": {},
   "outputs": [],
   "source": []
  }
 ],
 "metadata": {
  "kernelspec": {
   "display_name": "Python 3 (ipykernel)",
   "language": "python",
   "name": "python3"
  },
  "language_info": {
   "codemirror_mode": {
    "name": "ipython",
    "version": 3
   },
   "file_extension": ".py",
   "mimetype": "text/x-python",
   "name": "python",
   "nbconvert_exporter": "python",
   "pygments_lexer": "ipython3",
   "version": "3.11.3"
  }
 },
 "nbformat": 4,
 "nbformat_minor": 5
}
