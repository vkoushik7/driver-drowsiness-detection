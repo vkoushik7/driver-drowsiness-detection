{
 "cells": [
  {
   "cell_type": "code",
   "execution_count": 5,
   "id": "cc448ff8-c739-46d9-baa3-7c2c6196b8a7",
   "metadata": {},
   "outputs": [],
   "source": [
    "import cv2 as cv\n",
    "import dlib\n",
    "import numpy as np\n",
    "import pygame\n",
    "from scipy.spatial import distance as dist\n",
    "import time"
   ]
  },
  {
   "cell_type": "code",
   "execution_count": 6,
   "id": "d1e84131-1662-445c-bbb5-2ab8baebf566",
   "metadata": {},
   "outputs": [],
   "source": [
    "def eye_aspect_ratio(eye):\n",
    "    A = dist.euclidean(eye[1], eye[5])\n",
    "    B = dist.euclidean(eye[2], eye[4])\n",
    "    C = dist.euclidean(eye[0], eye[3])\n",
    "    ear = (A + B) / (2.0 * C  + 1e-7)\n",
    "    return ear"
   ]
  },
  {
   "cell_type": "code",
   "execution_count": 7,
   "id": "2f50e7c1-89b4-4b4f-89fc-72b86aa50300",
   "metadata": {},
   "outputs": [],
   "source": [
    "detector = dlib.get_frontal_face_detector()\n",
    "predictor = dlib.shape_predictor(\".\\Pre-trained\\shape_predictor_68_face_landmarks.dat\")\n",
    "\n",
    "pygame.mixer.init()\n",
    "pygame.mixer.music.load(\"alarm.mp3\")\n",
    "player = pygame.mixer.music\n",
    "\n",
    "EAR_THRESHOLD = 0.22\n",
    "TIME_LIMIT = 3*60*60\n",
    "\n",
    "start_time = time.time()\n",
    "frame_count = 0\n",
    "framec = 0\n",
    "CONSECUTIVE_FRAMES = 25"
   ]
  },
  {
   "cell_type": "code",
   "execution_count": 8,
   "id": "d5422c7b-f1b9-4939-9c13-658a2f544e5a",
   "metadata": {},
   "outputs": [],
   "source": [
    "cap = cv.VideoCapture(0)\n",
    "\n",
    "while True:\n",
    "    ret, frame = cap.read()\n",
    "    frame_count+=1\n",
    "    if not ret:\n",
    "        break\n",
    "    gray = cv.cvtColor(frame, cv.COLOR_BGR2GRAY)\n",
    "    faces = detector(gray)\n",
    "    for face in faces:\n",
    "        landmarks = predictor(gray, face)\n",
    "        left_eye = np.array([(landmarks.part(n).x, landmarks.part(n).y) for n in range(36, 42)], dtype='double')\n",
    "        right_eye = np.array([(landmarks.part(n).x, landmarks.part(n).y) for n in range(42, 48)], dtype='double')\n",
    "        left_ear = eye_aspect_ratio(left_eye)\n",
    "        right_ear = eye_aspect_ratio(right_eye)\n",
    "        \n",
    "        if np.all(left_eye) and np.all(right_eye):\n",
    "            ear = (left_ear + right_ear) / 2.0\n",
    "        \n",
    "        elif np.all(left_eye):\n",
    "            ear = left_ear\n",
    "        \n",
    "        elif np.all(right_eye):\n",
    "            ear = right_ear\n",
    "        else:\n",
    "            continue\n",
    "        \n",
    "        # for i in range(68):\n",
    "        #     a = landmarks.part(i).x\n",
    "        #     b = landmarks.part(i).y\n",
    "        #     # cv.circle(frame,(a,b),1,(0,255,255),1)\n",
    "        #     cv.putText(frame,str(i),(a,b),cv.FONT_HERSHEY_SIMPLEX,0.2,(0,255,255),1)\n",
    "\n",
    "\n",
    "        # cv.putText(frame, \"EAR: {:.2f}\".format(ear), (10, 30), cv.FONT_HERSHEY_SIMPLEX, 0.7, (0, 0, 255), 2)\n",
    "\n",
    "        if ear < EAR_THRESHOLD:\n",
    "            framec+=1\n",
    "            if framec >= CONSECUTIVE_FRAMES:\n",
    "                cv.putText(frame, \"DROWSY\", (10, 30), cv.FONT_HERSHEY_SIMPLEX, 0.7, (0, 0, 255), 2)\n",
    "                if not player.get_busy():\n",
    "                    player.play()\n",
    "        else:\n",
    "            if player.get_busy():\n",
    "                player.stop()\n",
    "        \n",
    "        elapsed_time = time.time() - start_time\n",
    "        if elapsed_time > TIME_LIMIT:\n",
    "            cv.putText(frame, \"TIME FOR A BREAK!\", (10, 60), cv.FONT_HERSHEY_SIMPLEX, 0.7, (0, 0, 255), 2)\n",
    "            if not player.get_busy():\n",
    "                player.play()\n",
    "            else:\n",
    "                if player.get_busy():\n",
    "                    player.stop()\n",
    "                    \n",
    "    cv.imshow('Drowsiness Detection', frame)\n",
    "    if cv.waitKey(1) & 0xFF == ord('q'):\n",
    "        break\n",
    "        \n",
    "if player.get_busy():\n",
    "    player.stop()\n",
    "    \n",
    "cap.release()\n",
    "cv.destroyAllWindows()"
   ]
  },
  {
   "cell_type": "code",
   "execution_count": null,
   "id": "b2abab08",
   "metadata": {},
   "outputs": [],
   "source": []
  }
 ],
 "metadata": {
  "kernelspec": {
   "display_name": "Python 3 (ipykernel)",
   "language": "python",
   "name": "python3"
  },
  "language_info": {
   "codemirror_mode": {
    "name": "ipython",
    "version": 3
   },
   "file_extension": ".py",
   "mimetype": "text/x-python",
   "name": "python",
   "nbconvert_exporter": "python",
   "pygments_lexer": "ipython3",
   "version": "3.11.3"
  }
 },
 "nbformat": 4,
 "nbformat_minor": 5
}
