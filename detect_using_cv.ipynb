{
 "cells": [
  {
   "cell_type": "code",
   "execution_count": 1,
   "metadata": {},
   "outputs": [],
   "source": [
    "import cv2 as cv\n",
    "face_cascade = cv.CascadeClassifier(cv.data.haarcascades + 'haarcascade_frontalface_default.xml')\n",
    "eye_cascade = cv.CascadeClassifier(cv.data.haarcascades + 'haarcascade_eye.xml')\n",
    "left_eye_cascade = cv.CascadeClassifier(cv.data.haarcascades + 'haarcascade_lefteye_2splits.xml')\n",
    "right_eye_cascade = cv.CascadeClassifier(cv.data.haarcascades + 'haarcascade_righteye_2splits.xml')"
   ]
  },
  {
   "cell_type": "code",
   "execution_count": 2,
   "metadata": {},
   "outputs": [],
   "source": [
    "def getextractedeyes(image_path, save_path=\"D:/projects/Driver_Drowziness/results/\"):\n",
    "    img = cv.imread(image_path)\n",
    "    name = image_path[-13:-8]\n",
    "    print(name)\n",
    "    gray_img = cv.cvtColor(img, cv.COLOR_BGR2GRAY)\n",
    "\n",
    "    faces = face_cascade.detectMultiScale(gray_img, scaleFactor=1.3, minNeighbors=5)\n",
    "\n",
    "    if len(faces) == 0:\n",
    "        print(\"No faces detected!\")\n",
    "        return\n",
    "\n",
    "    for (x, y, w, h) in faces:\n",
    "        roi_gray = gray_img[y:y+h, x:x+w]\n",
    "        roi_color = img[y:y+h, x:x+w]\n",
    "\n",
    "        left_half = roi_gray[:, :w//2]\n",
    "        right_half = roi_gray[:, w//2:]\n",
    "\n",
    "        ans = []\n",
    "        \n",
    "        roi_height = min(left_half.shape[0], right_half.shape[0])\n",
    "        roi_width = min(left_half.shape[1], right_half.shape[1])\n",
    "\n",
    "        left_roi = left_half[:roi_height, :roi_width]\n",
    "        right_roi = right_half[:roi_height, :roi_width]\n",
    "\n",
    "        left_eyes = eye_cascade.detectMultiScale(left_roi)\n",
    "        for i, (ex, ey, ew, eh) in enumerate(left_eyes):\n",
    "            left_eye = roi_color[ey:ey+eh, ex:ex+ew]\n",
    "            left_eye = cv.resize(left_eye, (145, 145))\n",
    "            ans.append(left_eye)\n",
    "            respathl = f\"{save_path}/{name}_left.jpg\"\n",
    "            cv.imwrite(respathl, left_eye)\n",
    "\n",
    "        right_eyes = eye_cascade.detectMultiScale(right_roi)\n",
    "        for i, (ex, ey, ew, eh) in enumerate(right_eyes):\n",
    "            ex += w//2\n",
    "            right_eye = roi_color[ey:ey+eh, ex:ex+ew]\n",
    "            right_eye = cv.resize(right_eye, (145, 145))\n",
    "            ans.append(right_eye)\n",
    "            respathr = f\"{save_path}/{name}_right.jpg\"\n",
    "            cv.imwrite(respathr, right_eye)\n",
    "\n",
    "    return ans"
   ]
  },
  {
   "cell_type": "code",
   "execution_count": 3,
   "metadata": {},
   "outputs": [
    {
     "name": "stdout",
     "output_type": "stream",
     "text": [
      "31_04\n"
     ]
    }
   ],
   "source": [
    "Path = r\"C:\\Users\\vkris\\Pictures\\Camera Roll\\WIN_20231122_14_31_04_Pro.jpg\"\n",
    "eyes = getextractedeyes(Path)"
   ]
  },
  {
   "cell_type": "code",
   "execution_count": 4,
   "metadata": {},
   "outputs": [],
   "source": [
    "from keras.models import load_model\n",
    "from keras.preprocessing import image\n",
    "import numpy as np"
   ]
  },
  {
   "cell_type": "code",
   "execution_count": 6,
   "metadata": {},
   "outputs": [],
   "source": [
    "model = load_model(r\"trained\\drowsiness_detection_model_final.h5\")"
   ]
  },
  {
   "cell_type": "code",
   "execution_count": 7,
   "metadata": {},
   "outputs": [],
   "source": [
    "def preprocess_eye_image(img):\n",
    "    img_array = image.img_to_array(img)\n",
    "    img_array = np.expand_dims(img_array, axis=0)\n",
    "    img_array /= 255.0\n",
    "    return img_array"
   ]
  },
  {
   "cell_type": "code",
   "execution_count": 8,
   "metadata": {},
   "outputs": [
    {
     "name": "stdout",
     "output_type": "stream",
     "text": [
      "1/1 [==============================] - 0s 285ms/step\n",
      "[[0.01134036]]\n",
      "1/1 [==============================] - 0s 45ms/step\n",
      "[[0.01354509]]\n",
      "True, drowsiness detected!\n"
     ]
    }
   ],
   "source": [
    "lefteye_detected = False\n",
    "righteye_detected = False\n",
    "\n",
    "for i, eye in enumerate(eyes):\n",
    "    preprocessed_eye = preprocess_eye_image(eye)\n",
    "    pred = model.predict(preprocessed_eye)\n",
    "    print(pred)\n",
    "    if pred[0, 0] > 0.5:\n",
    "        if i == 0:\n",
    "            lefteye_detected = False\n",
    "        else:\n",
    "            righteye_detected = False\n",
    "    else:\n",
    "        if i == 0:\n",
    "            lefteye_detected = True\n",
    "        else:\n",
    "            righteye_detected = True\n",
    "\n",
    "if lefteye_detected and righteye_detected:\n",
    "    print(\"True, drowsiness detected!\")\n",
    "else:\n",
    "    print(\"No Drowsiness Detected\")\n"
   ]
  },
  {
   "cell_type": "code",
   "execution_count": null,
   "metadata": {},
   "outputs": [],
   "source": []
  }
 ],
 "metadata": {
  "accelerator": "GPU",
  "colab": {
   "gpuType": "T4",
   "provenance": []
  },
  "kernelspec": {
   "display_name": "Python 3 (ipykernel)",
   "language": "python",
   "name": "python3"
  },
  "language_info": {
   "codemirror_mode": {
    "name": "ipython",
    "version": 3
   },
   "file_extension": ".py",
   "mimetype": "text/x-python",
   "name": "python",
   "nbconvert_exporter": "python",
   "pygments_lexer": "ipython3",
   "version": "3.11.3"
  }
 },
 "nbformat": 4,
 "nbformat_minor": 4
}
