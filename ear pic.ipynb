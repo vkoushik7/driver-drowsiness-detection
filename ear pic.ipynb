{
 "cells": [
  {
   "cell_type": "code",
   "execution_count": 13,
   "id": "49995f40",
   "metadata": {},
   "outputs": [],
   "source": [
    "import cv2 as cv\n",
    "import dlib\n",
    "import numpy as np\n",
    "import pygame\n",
    "from scipy.spatial import distance as dist\n",
    "import time"
   ]
  },
  {
   "cell_type": "code",
   "execution_count": 14,
   "id": "b7b9bb5f",
   "metadata": {},
   "outputs": [],
   "source": [
    "def eye_aspect_ratio(eye):\n",
    "    A = dist.euclidean(eye[1], eye[5])\n",
    "    B = dist.euclidean(eye[2], eye[4])\n",
    "    C = dist.euclidean(eye[0], eye[3])\n",
    "    ear = (A + B) / (2.0 * C + 1e-7)\n",
    "    return ear\n",
    "\n",
    "def mouth_aspect_ratio(mouth):\n",
    "    A = dist.euclidean(mouth[2], mouth[10])\n",
    "    B = dist.euclidean(mouth[4], mouth[8])\n",
    "    C = dist.euclidean(mouth[0], mouth[6])\n",
    "    mar = (A + B) / (2.0 * C + 1e-7)\n",
    "    return mar"
   ]
  },
  {
   "cell_type": "code",
   "execution_count": 15,
   "id": "4a9c5f88",
   "metadata": {},
   "outputs": [],
   "source": [
    "detector = dlib.get_frontal_face_detector()\n",
    "predictor = dlib.shape_predictor(\".\\pre-trained\\shape_predictor_68_face_landmarks.dat\")\n",
    "pygame.mixer.init()\n",
    "pygame.mixer.music.load(\"alarm.mp3\")\n",
    "player = pygame.mixer.music"
   ]
  },
  {
   "cell_type": "code",
   "execution_count": 49,
   "id": "1869975c",
   "metadata": {},
   "outputs": [],
   "source": [
    "EAR_THRESHOLD = 0.22\n",
    "MAR_THRESHOLD = 0.5"
   ]
  },
  {
   "cell_type": "code",
   "execution_count": 50,
   "id": "ccc96d48",
   "metadata": {},
   "outputs": [],
   "source": [
    "path = r\"C:\\Users\\vkris\\Pictures\\Camera Roll\\WIN_20231122_14_31_04_Pro.jpg\"\n",
    "img = cv.imread(path)\n",
    "gray = cv.cvtColor(img,cv.COLOR_BGR2GRAY)\n",
    "face = detector(gray)\n",
    "if (len(face)!=0):\n",
    "    landmarks = predictor(gray,face[0])\n",
    "else:\n",
    "    print(\"face not found\")"
   ]
  },
  {
   "cell_type": "code",
   "execution_count": 55,
   "id": "d5b533b5",
   "metadata": {},
   "outputs": [],
   "source": [
    "left_eye = np.array([(landmarks.part(i).x, landmarks.part(i).y) for i in range(36,42)], dtype='double')\n",
    "right_eye = np.array([(landmarks.part(i).x, landmarks.part(i).y) for i in range(42,48)], dtype='double')\n",
    "left_eye = eye_aspect_ratio(left_eye)\n",
    "right_eye = eye_aspect_ratio(right_eye)\n",
    "if (left_eye<EAR_THRESHOLD and right_eye<EAR_THRESHOLD):\n",
    "    cv.putText(img,\"DROWSY\",(10,30),cv.FONT_HERSHEY_SIMPLEX,0.7,(0,0,255),2)\n",
    "else:\n",
    "    cv.putText(img,\"NON DROWSY\",(10,30),cv.FONT_HERSHEY_SIMPLEX,0.7,(0,0,255),2)\n",
    "# if (np.all(left_eye) and np.all(right_eye)):\n",
    "#     ear = (left_eye+right_eye)/2.0\n",
    "# elif (np.all(left_eye)):\n",
    "#     ear = left_eye\n",
    "# elif (np.all(right_eye)):\n",
    "#     ear = right_eye\n",
    "# if (ear<EAR_THRESHOLD):\n",
    "#     cv.putText(img,\"DROWSY\",(10,30),cv.FONT_HERSHEY_SIMPLEX,0.7,(0,0,255),2)\n",
    "# else:\n",
    "#     cv.putText(img,\"NON DROWSY\",(10,30),cv.FONT_HERSHEY_SIMPLEX,0.7,(0,0,255),2)\n",
    "for i in range(68):\n",
    "    a = landmarks.part(i).x\n",
    "    b = landmarks.part(i).y\n",
    "    cv.circle(img,(a,b),1,(0,255,255),1)\n",
    "\n",
    "cv.imshow('Drowsiness Detection for image',img)\n",
    "cv.waitKey(0)\n",
    "cv.destroyAllWindows()"
   ]
  },
  {
   "cell_type": "code",
   "execution_count": null,
   "id": "fa73349f",
   "metadata": {},
   "outputs": [],
   "source": []
  },
  {
   "cell_type": "code",
   "execution_count": null,
   "id": "9fffa499",
   "metadata": {},
   "outputs": [],
   "source": []
  }
 ],
 "metadata": {
  "kernelspec": {
   "display_name": "Python 3 (ipykernel)",
   "language": "python",
   "name": "python3"
  },
  "language_info": {
   "codemirror_mode": {
    "name": "ipython",
    "version": 3
   },
   "file_extension": ".py",
   "mimetype": "text/x-python",
   "name": "python",
   "nbconvert_exporter": "python",
   "pygments_lexer": "ipython3",
   "version": "3.11.3"
  }
 },
 "nbformat": 4,
 "nbformat_minor": 5
}
